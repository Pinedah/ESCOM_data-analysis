{
 "cells": [
  {
   "cell_type": "markdown",
   "id": "a07df3b3",
   "metadata": {},
   "source": [
    "# Práctica 1 - Equipo 4\n",
    "Integrantes:\n",
    "- Pineda Hernández Francisco\n",
    "- Ramírez Aguilar Rodrigo Vidal"
   ]
  },
  {
   "cell_type": "code",
   "execution_count": 3,
   "id": "f17a8348",
   "metadata": {},
   "outputs": [],
   "source": [
    "import pandas as pd\n",
    "import numpy as np"
   ]
  },
  {
   "cell_type": "code",
   "execution_count": 4,
   "id": "5f854dae",
   "metadata": {},
   "outputs": [],
   "source": [
    "def hamming(letra1, letra2):\n",
    "    return 0 if letra1 == letra2 else 1"
   ]
  },
  {
   "cell_type": "code",
   "execution_count": 5,
   "id": "886ea4ac",
   "metadata": {},
   "outputs": [],
   "source": [
    "def generar_matriz(palabra1, palabra2):\n",
    "    matriz = [[0 for _ in range(len(palabra1) + 2)] for _ in range(len(palabra2) + 2)]\n",
    "    # print(matriz)\n",
    "    a = 0\n",
    "    for i in range(2, len(palabra1) + 2):\n",
    "        # print(i, len(palabra1))\n",
    "        matriz[0][i] = palabra1[a]\n",
    "        a = a + 1\n",
    "    a = 0\n",
    "    for j in range(2, len(palabra2) + 2):\n",
    "        matriz[j][0] = palabra2[a]\n",
    "        a = a + 1\n",
    "    return matriz\n"
   ]
  },
  {
   "cell_type": "code",
   "execution_count": 6,
   "id": "c409cc08",
   "metadata": {},
   "outputs": [
    {
     "data": {
      "text/plain": [
       "[[0, 0, 'p', 'a', 'n'],\n",
       " [0, 0, 0, 0, 0],\n",
       " ['p', 0, 0, 0, 0],\n",
       " ['i', 0, 0, 0, 0],\n",
       " ['n', 0, 0, 0, 0]]"
      ]
     },
     "execution_count": 6,
     "metadata": {},
     "output_type": "execute_result"
    }
   ],
   "source": [
    "generar_matriz(\"pan\", \"pin\")"
   ]
  },
  {
   "cell_type": "code",
   "execution_count": 7,
   "id": "6d0c27f1",
   "metadata": {},
   "outputs": [],
   "source": [
    "def distancia_edicion(palabra1, palabra2):\n",
    "    tamanio1 = len(palabra1)\n",
    "    tamanio2 = len(palabra2)\n",
    "    m = generar_matriz(palabra1, palabra2)\n",
    "    #print(m)\n",
    "    for i in range(1, tamanio2 + 2):\n",
    "        for j in range(1, tamanio1 + 2):\n",
    "            if j == 1:\n",
    "                m[i][j] = i - 1\n",
    "            elif i == 1:\n",
    "                m[i][j] = j - 1\n",
    "            else:\n",
    "                m[i][j] = min(m[i - 1][j] + 1, m[i][j - 1] + 1, m[i - 1][j - 1] + hamming(m[0][j], m[i][0]))\n",
    "    return m\n"
   ]
  },
  {
   "cell_type": "code",
   "execution_count": 8,
   "id": "4f6a1938",
   "metadata": {},
   "outputs": [
    {
     "data": {
      "text/plain": [
       "[[0, 0, 'p', 'e', 'r', 'r', 'o', 's'],\n",
       " [0, 0, 1, 2, 3, 4, 5, 6],\n",
       " ['p', 1, 0, 1, 2, 3, 4, 5],\n",
       " ['e', 2, 1, 0, 1, 2, 3, 4],\n",
       " ['r', 3, 2, 1, 0, 1, 2, 3],\n",
       " ['r', 4, 3, 2, 1, 0, 1, 2],\n",
       " ['o', 5, 4, 3, 2, 1, 0, 1]]"
      ]
     },
     "execution_count": 8,
     "metadata": {},
     "output_type": "execute_result"
    }
   ],
   "source": [
    "distancia_edicion(\"perros\", \"perro\")"
   ]
  },
  {
   "cell_type": "code",
   "execution_count": 15,
   "id": "1cee35da",
   "metadata": {},
   "outputs": [
    {
     "name": "stdout",
     "output_type": "stream",
     "text": [
      "0 0 g a t o s\n",
      "0 0 1 2 3 4 5\n",
      "g 1 0 1 2 3 4\n",
      "a 2 1 0 1 2 3\n",
      "t 3 2 1 0 1 2\n",
      "o 4 3 2 1 0 1\n"
     ]
    }
   ],
   "source": [
    "p1 = str(input(\"Ingresa la palabra 1: \"))\n",
    "p2 = str(input(\"Ingresa la palabra 2: \"))\n",
    "matriz = pd.DataFrame(distancia_edicion(p1, p2))\n",
    "print(matriz.to_string(index=False, header=False))"
   ]
  }
 ],
 "metadata": {
  "kernelspec": {
   "display_name": "Python 3",
   "language": "python",
   "name": "python3"
  },
  "language_info": {
   "codemirror_mode": {
    "name": "ipython",
    "version": 3
   },
   "file_extension": ".py",
   "mimetype": "text/x-python",
   "name": "python",
   "nbconvert_exporter": "python",
   "pygments_lexer": "ipython3",
   "version": "3.10.11"
  }
 },
 "nbformat": 4,
 "nbformat_minor": 5
}
